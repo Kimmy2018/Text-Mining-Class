{
 "cells": [
  {
   "cell_type": "code",
   "execution_count": 1,
   "metadata": {},
   "outputs": [],
   "source": [
    "import pandas as pd\n",
    "import random\n",
    "from nltk.tokenize import word_tokenize\n",
    "from nltk.corpus import stopwords\n",
    "import nltk\n",
    "import numpy as np\n",
    "from sklearn.feature_extraction.text import TfidfVectorizer\n",
    "from string import punctuation"
   ]
  },
  {
   "cell_type": "code",
   "execution_count": 2,
   "metadata": {},
   "outputs": [],
   "source": [
    "df = pd.read_csv(\"Train_rev1.csv\", encoding='utf-8')"
   ]
  },
  {
   "cell_type": "markdown",
   "metadata": {},
   "source": [
    "Randomly select 2500 data points (the training dataset train_rev1 contains nearly 250k) for ease of \n",
    "analysis. Now perform the tasks in Part A and B."
   ]
  },
  {
   "cell_type": "code",
   "execution_count": 4,
   "metadata": {},
   "outputs": [],
   "source": [
    "random.seed(1)\n",
    "index = random.sample(range(len(df)),2500)"
   ]
  },
  {
   "cell_type": "code",
   "execution_count": 5,
   "metadata": {},
   "outputs": [],
   "source": [
    "df_2500 = df.iloc[index]"
   ]
  },
  {
   "cell_type": "code",
   "execution_count": 6,
   "metadata": {
    "scrolled": false
   },
   "outputs": [
    {
     "data": {
      "text/plain": [
       "u'Chef de Partie  Surrey  Accommodation available  ****K You will be working as part of am ambitious and talented team in this wonderful **** AA Rosette awarded fine dining restaurant and stunning historic hotel. The kitchen and team require an experie'"
      ]
     },
     "execution_count": 6,
     "metadata": {},
     "output_type": "execute_result"
    }
   ],
   "source": [
    "text = []\n",
    "for i in range(len(df_2500)):\n",
    "    text.append(df_2500['FullDescription'].iloc[i])\n",
    "text = ''.join(comment for comment in text)\n",
    "##example text\n",
    "text[:250]"
   ]
  },
  {
   "cell_type": "markdown",
   "metadata": {},
   "source": [
    "Part A (basic text mining, just to make sure you are familiar with the fundamentals)\n",
    "\n",
    "A1. What are the top 5 parts of speech in the job descriptions? How frequently do they appear? How do \n",
    "these numbers change if you exclude stopwords?"
   ]
  },
  {
   "cell_type": "code",
   "execution_count": 10,
   "metadata": {},
   "outputs": [],
   "source": [
    "# remove punctuation\n",
    "for p in punctuation:\n",
    "    text=text.replace(p,' ')"
   ]
  },
  {
   "cell_type": "code",
   "execution_count": 11,
   "metadata": {},
   "outputs": [
    {
     "data": {
      "text/plain": [
       "[('NN', 158412), ('JJ', 71009), ('IN', 65401), ('NNS', 51338), ('DT', 50482)]"
      ]
     },
     "execution_count": 11,
     "metadata": {},
     "output_type": "execute_result"
    }
   ],
   "source": [
    "# The top 5 parts of speech \n",
    "token_text = word_tokenize(text.lower())\n",
    "\n",
    "text_tag = nltk.pos_tag(token_text)\n",
    "tag_fd = nltk.FreqDist(tag for (word, tag) in text_tag)\n",
    "tag_fd.most_common()[:5]"
   ]
  },
  {
   "cell_type": "code",
   "execution_count": 23,
   "metadata": {},
   "outputs": [
    {
     "data": {
      "text/plain": [
       "[('NN', 152708), ('JJ', 73979), ('NNS', 50740), ('VBG', 25275), ('VBP', 17414)]"
      ]
     },
     "execution_count": 23,
     "metadata": {},
     "output_type": "execute_result"
    }
   ],
   "source": [
    "# remove the stopwords and see how the top 5 POS change\n",
    "text_filtered = []\n",
    "for word in token_text:\n",
    "    if not word in stopwords.words('english'):\n",
    "        text_filtered.append(word) \n",
    "        \n",
    "text_tag = nltk.pos_tag(text_filtered)\n",
    "tag_fd = nltk.FreqDist(tag for (word, tag) in text_tag)\n",
    "tag_fd.most_common()[:5]"
   ]
  },
  {
   "cell_type": "markdown",
   "metadata": {},
   "source": [
    "A2. Does this data support Zipf’s law? Plot the most common 100 words in the data against the \n",
    "theoretical prediction of the law. For this question, do not remove stopwords. Also do not perform \n",
    "stemming or lemmatization. "
   ]
  },
  {
   "cell_type": "code",
   "execution_count": 12,
   "metadata": {},
   "outputs": [],
   "source": [
    "common_100 = nltk.FreqDist(token_text).most_common()[:100]"
   ]
  },
  {
   "cell_type": "code",
   "execution_count": 114,
   "metadata": {},
   "outputs": [
    {
     "data": {
      "image/png": "[encoded data removed]",
      "text/plain": [
       "<Figure size 432x288 with 1 Axes>"
      ]
     },
     "metadata": {},
     "output_type": "display_data"
    }
   ],
   "source": [
    "import matplotlib.pyplot as plt\n",
    "common_100 = pd.DataFrame(common_100)\n",
    "common_100['rank'] = common_100.index + 1\n",
    "plt.plot(np.log(common_100['rank']), np.log(common_100[1]), label='Top 100 words')\n",
    "x = np.linspace(0,np.log(100))\n",
    "plt.plot(x, np.log(common_100[1][0])-x, label=\"ideal case\")\n",
    "plt.legend(loc='upper right')\n",
    "plt.xlabel('log(rank of words)')\n",
    "plt.ylabel('log(frequency of words)')\n",
    "plt.title(\"top 100 compared to Zipf's law\")\n",
    "plt.show()"
   ]
  },
  {
   "cell_type": "markdown",
   "metadata": {},
   "source": [
    "A3. If we remove stopwords and lemmatize the data, what are the 10 most common words? What are \n",
    "their frequencies?"
   ]
  },
  {
   "cell_type": "code",
   "execution_count": 24,
   "metadata": {},
   "outputs": [
    {
     "data": {
      "text/plain": [
       "[(u'experience', 4380),\n",
       " (u'role', 3140),\n",
       " (u'team', 2999),\n",
       " (u'work', 2906),\n",
       " (u'client', 2875),\n",
       " (u'business', 2872),\n",
       " (u'service', 2472),\n",
       " (u'skill', 2438),\n",
       " (u'within', 2232),\n",
       " (u'working', 2224)]"
      ]
     },
     "execution_count": 24,
     "metadata": {},
     "output_type": "execute_result"
    }
   ],
   "source": [
    "#lemmatization\n",
    "wnl = nltk.WordNetLemmatizer()\n",
    "text_lemmatized =[wnl.lemmatize(t) for t in text_filtered]\n",
    "         \n",
    "nltk.FreqDist(text_lemmatized).most_common()[:10]"
   ]
  },
  {
   "cell_type": "markdown",
   "metadata": {},
   "source": [
    "Part B (predict salary from job description; the idea here is to test the predictive power of text and \n",
    "compare it with that of numeric data)"
   ]
  },
  {
   "cell_type": "markdown",
   "metadata": {},
   "source": [
    "In this section, you will create classification models to predict high (75th percentile and above) or low\n",
    "(below 75th percentile) salary from the text contained in the job descriptions.\n",
    "\n",
    "B1. Ignore the job descriptions, and train a model to predict high/low salary from all the numeric \n",
    "columns, e.g., part time/full time, contract vs. others, type of job (a lot of dummy variables), location \n",
    "(instead of using a huge number of dummy variables, you can use a list of cities in England with highest \n",
    "cost of living, and create a 0/1 variable which is 1 if the job is in one of those cities, else 0). Use the Naïve \n",
    "Bayes classifier. What is the accuracy of your model? "
   ]
  },
  {
   "cell_type": "code",
   "execution_count": 112,
   "metadata": {},
   "outputs": [],
   "source": [
    "def classify_salary(s):\n",
    "    p_75 =  df_2500['SalaryNormalized'].quantile(0.75)\n",
    "    if s > p_75:\n",
    "        return \"high\"\n",
    "    else:\n",
    "        return \"low\"\n",
    "df_2500.loc[:,'Salary'] = df_2500['SalaryNormalized'].map(classify_salary)"
   ]
  },
  {
   "cell_type": "code",
   "execution_count": 27,
   "metadata": {},
   "outputs": [],
   "source": [
    "# find these high-cost cities from google\n",
    "highcost_cities = ['london', 'oxford', 'brighton and hove', 'cambridge', 'bristol', 'portsmouth', \n",
    "                   'reading, berkshire', 'edinburgh', 'leicester', 'york', 'exeter', 'aberdeen', 'southampton', \n",
    "                   'birmingham', 'manchester', 'leeds', 'ipswich', 'belfast', 'glasgow', 'nottingham', \n",
    "                   'kingston upon hull', 'newcastle upon tyne', 'liverpool', 'plymouth']\n",
    "def classify_city(s):\n",
    "    if s.lower() in highcost_cities:\n",
    "        return 1\n",
    "    else:\n",
    "        return 0\n",
    "df_2500.loc[:,'living_cost'] = df_2500['LocationNormalized'].map(classify_city)"
   ]
  },
  {
   "cell_type": "code",
   "execution_count": 28,
   "metadata": {},
   "outputs": [],
   "source": [
    "ContractType_dummy = pd.get_dummies(df_2500.ContractType)\n",
    "ContractTime_dummy = pd.get_dummies(df_2500.ContractTime)\n",
    "Category_dummy = pd.get_dummies(df_2500.Category)"
   ]
  },
  {
   "cell_type": "code",
   "execution_count": 35,
   "metadata": {},
   "outputs": [
    {
     "data": {
      "text/plain": [
       "0.736"
      ]
     },
     "execution_count": 35,
     "metadata": {},
     "output_type": "execute_result"
    }
   ],
   "source": [
    "X = df_2500[['living_cost']].join(ContractType_dummy).join(ContractTime_dummy).join(Category_dummy)\n",
    "y = df_2500['Salary']\n",
    "\n",
    "from sklearn.model_selection import train_test_split\n",
    "X_train, X_test, y_train, y_test = train_test_split(X, y, test_size=0.2, random_state=42)\n",
    "\n",
    "from sklearn.naive_bayes import BernoulliNB\n",
    "clf = BernoulliNB().fit(X_train,y_train)\n",
    "y_predicted = clf.predict(X_test)\n",
    "\n",
    "from sklearn import metrics\n",
    "metrics.accuracy_score(y_test, y_predicted)"
   ]
  },
  {
   "cell_type": "code",
   "execution_count": 36,
   "metadata": {},
   "outputs": [
    {
     "data": {
      "text/plain": [
       "array([[ 19, 116],\n",
       "       [ 16, 349]], dtype=int64)"
      ]
     },
     "execution_count": 36,
     "metadata": {},
     "output_type": "execute_result"
    }
   ],
   "source": [
    "metrics.confusion_matrix(y_test, y_predicted)"
   ]
  },
  {
   "cell_type": "markdown",
   "metadata": {},
   "source": [
    "Now build a classification model with text (full job description) as the only predictor. "
   ]
  },
  {
   "cell_type": "code",
   "execution_count": 90,
   "metadata": {},
   "outputs": [],
   "source": [
    "all_words = nltk.FreqDist(w.lower() for w in token_text)\n",
    "# used the top 8000 words\n",
    "word_features_8000 = list(all_words)[:8000]"
   ]
  },
  {
   "cell_type": "code",
   "execution_count": 91,
   "metadata": {},
   "outputs": [],
   "source": [
    "temp = df_2500['FullDescription'].map(lambda s: word_tokenize(s.lower()))\n",
    "document1 = [el for el in temp]\n",
    "document2 = []\n",
    "for i in range(len(document1)):\n",
    "    document2.append((document1[i], df_2500['Salary'].iloc[i]))"
   ]
  },
  {
   "cell_type": "code",
   "execution_count": 92,
   "metadata": {},
   "outputs": [],
   "source": [
    "random.shuffle(document2)\n",
    "def document_features(document): \n",
    "    document_words = set(document) \n",
    "    features = {}\n",
    "    for word in word_features_8000:\n",
    "        features[word] = (word.lower() in document_words)\n",
    "    return features\n",
    "featuresets = [(document_features(d), c) for (d,c) in document2]\n",
    "train_set, test_set = featuresets[500:], featuresets[:500]\n",
    "classifier = nltk.NaiveBayesClassifier.train(train_set)"
   ]
  },
  {
   "cell_type": "code",
   "execution_count": 93,
   "metadata": {},
   "outputs": [
    {
     "name": "stdout",
     "output_type": "stream",
     "text": [
      "0.756\n"
     ]
    }
   ],
   "source": [
    "print(nltk.classify.accuracy(classifier, test_set))"
   ]
  },
  {
   "cell_type": "code",
   "execution_count": 96,
   "metadata": {},
   "outputs": [],
   "source": [
    "test_features = [i[0] for i in test_set]\n",
    "test_label = [i[1] for i in test_set]\n",
    "y_pred = []\n",
    "for feature in test_features:\n",
    "    y_pred.append(classifier.classify(feature))"
   ]
  },
  {
   "cell_type": "code",
   "execution_count": 97,
   "metadata": {},
   "outputs": [
    {
     "data": {
      "text/plain": [
       "array([[ 71,  47],\n",
       "       [ 75, 307]], dtype=int64)"
      ]
     },
     "execution_count": 97,
     "metadata": {},
     "output_type": "execute_result"
    }
   ],
   "source": [
    "metrics.confusion_matrix(test_label, y_pred)"
   ]
  },
  {
   "cell_type": "code",
   "execution_count": 98,
   "metadata": {},
   "outputs": [
    {
     "name": "stdout",
     "output_type": "stream",
     "text": [
      "Most Informative Features\n",
      "                 unified = True             high : low    =     16.8 : 1.0\n",
      "                coverage = True             high : low    =     16.8 : 1.0\n",
      "         crossfunctional = True             high : low    =     14.8 : 1.0\n",
      "              partnering = True             high : low    =     12.8 : 1.0\n",
      "                      bi = True             high : low    =     11.4 : 1.0\n",
      "                outlined = True             high : low    =     10.9 : 1.0\n",
      "            acquisitions = True             high : low    =     10.9 : 1.0\n",
      "                    soap = True             high : low    =     10.9 : 1.0\n",
      "             derivatives = True             high : low    =     10.9 : 1.0\n",
      "                     uml = True             high : low    =     10.9 : 1.0\n"
     ]
    }
   ],
   "source": [
    "classifier.show_most_informative_features(10)"
   ]
  },
  {
   "cell_type": "markdown",
   "metadata": {},
   "source": [
    "B3. Train a “hybrid” model to predict high/low salary using both numeric and text data. Show the \n",
    "accuracy of the model. "
   ]
  },
  {
   "cell_type": "code",
   "execution_count": 99,
   "metadata": {},
   "outputs": [],
   "source": [
    "X = df_2500['FullDescription']\n",
    "y = df_2500['Salary']\n",
    "X_train, X_test, y_train, y_test = train_test_split(X, y, test_size=0.2, random_state=42)"
   ]
  },
  {
   "cell_type": "code",
   "execution_count": 101,
   "metadata": {},
   "outputs": [],
   "source": [
    "from sklearn.feature_extraction.text import CountVectorizer\n",
    " \n",
    "vectorizer = CountVectorizer()\n",
    "\n",
    "X_train = vectorizer.fit_transform(X_train)\n",
    "X_test = vectorizer.transform(X_test)\n",
    "\n",
    "X = df_2500[['living_cost']].join(ContractType_dummy).join(ContractTime_dummy).join(Category_dummy)\n",
    "y = df_2500['Salary']\n",
    "\n",
    "X_train2, X_test2, y_train2, y_test2 = train_test_split(X, y, test_size=0.2, random_state=42)\n",
    "\n",
    "\n",
    "\n",
    "\n",
    "\n"
   ]
  },
  {
   "cell_type": "code",
   "execution_count": 106,
   "metadata": {},
   "outputs": [],
   "source": [
    "X_train2.reset_index(drop=True, inplace=True)\n",
    "X_test2.reset_index(drop=True, inplace=True)"
   ]
  },
  {
   "cell_type": "code",
   "execution_count": 107,
   "metadata": {},
   "outputs": [],
   "source": [
    "X_train = pd.concat([pd.DataFrame(X_train.toarray()), X_train2], ignore_index=True, axis=1)\n",
    "X_test = pd.concat([pd.DataFrame(X_test.toarray()), X_test2], ignore_index=True, axis=1)"
   ]
  },
  {
   "cell_type": "code",
   "execution_count": 110,
   "metadata": {},
   "outputs": [
    {
     "data": {
      "text/plain": [
       "0.768"
      ]
     },
     "execution_count": 110,
     "metadata": {},
     "output_type": "execute_result"
    }
   ],
   "source": [
    "nb_classifier = BernoulliNB().fit(X_train, y_train)\n",
    "y_hybrid_predicted = nb_classifier.predict(X_test)\n",
    "metrics.accuracy_score(y_test, y_hybrid_predicted)"
   ]
  },
  {
   "cell_type": "code",
   "execution_count": 111,
   "metadata": {},
   "outputs": [
    {
     "data": {
      "text/plain": [
       "array([[ 44,  91],\n",
       "       [ 25, 340]], dtype=int64)"
      ]
     },
     "execution_count": 111,
     "metadata": {},
     "output_type": "execute_result"
    }
   ],
   "source": [
    "metrics.confusion_matrix(y_test, y_hybrid_predicted)"
   ]
  },
  {
   "cell_type": "markdown",
   "metadata": {},
   "source": [
    "Thus, the hybrid model provides us the best accuracy and this is not surprising because the job description and the numeric data together give us more information and thus it has a better prediction power!"
   ]
  }
 ],
 "metadata": {
  "kernelspec": {
   "display_name": "Python 2",
   "language": "python",
   "name": "python2"
  },
  "language_info": {
   "codemirror_mode": {
    "name": "ipython",
    "version": 2
   },
   "file_extension": ".py",
   "mimetype": "text/x-python",
   "name": "python",
   "nbconvert_exporter": "python",
   "pygments_lexer": "ipython2",
   "version": "2.7.15"
  }
 },
 "nbformat": 4,
 "nbformat_minor": 2
}
