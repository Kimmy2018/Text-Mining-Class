{
 "cells": [
  {
   "cell_type": "markdown",
   "metadata": {},
   "source": [
    "## Text Analytics Group Assignment #2"
   ]
  },
  {
   "cell_type": "markdown",
   "metadata": {},
   "source": [
    "Group members: Kemei Zhuo, Maggie Yu, Cherry Agarwal, Zhaoshun Su, Rulan Pan. "
   ]
  },
  {
   "cell_type": "markdown",
   "metadata": {},
   "source": [
    "In this assignment you are an analytics consultant to a (i) brand manager, (ii) product manager and (iii) advertising manager. Your job is to give advice/insights to these individuals based on the analysis of social media conversations. The detailed tasks are described below. We use cars as an example of a “high involvement” good (recall from class discussions that for high involvement goods, people use social media heavily for awareness building and research). "
   ]
  },
  {
   "cell_type": "markdown",
   "metadata": {},
   "source": [
    "1.    Develop a crawler/scraper using Selenium to fetch messages posted in Edmunds.com discussion forums. The crawler output should be a .csv file with the following columns: date, userid, and message (even though you will only use the messages in your analysis). Before you develop the crawler, carefully study one of the forums on Edmunds.com to understand the html as well as the threading structures. "
   ]
  },
  {
   "cell_type": "code",
   "execution_count": 1,
   "metadata": {},
   "outputs": [],
   "source": [
    "from bs4 import BeautifulSoup\n",
    "from selenium.webdriver.common.keys import Keys\n",
    "import re\n",
    "import pandas as pd\n",
    "import os\n",
    "from nltk.tokenize import word_tokenize\n",
    "import numpy\n",
    "from collections import defaultdict\n",
    "from sklearn import manifold\n",
    "import matplotlib.pyplot as plt\n",
    "import nltk\n",
    "from nltk.tokenize import sent_tokenize\n",
    "from nltk.corpus import stopwords\n",
    "import nltk.classify.util\n",
    "from nltk.classify import NaiveBayesClassifier\n",
    "from nltk.corpus import names"
   ]
  },
  {
   "cell_type": "code",
   "execution_count": null,
   "metadata": {},
   "outputs": [],
   "source": [
    "# Import webdriver from selenium\n",
    "from selenium import webdriver\n",
    "chrome_path = r'C:/Users/zjfhz/Desktop/Text Analysis/chromedriver.exe'\n",
    "driver = webdriver.Chrome(chrome_path)\n",
    "driver.get(\"https://forums.edmunds.com/discussion/2864/general/x/entry-level-luxury-performance-sedans\")"
   ]
  },
  {
   "cell_type": "code",
   "execution_count": null,
   "metadata": {},
   "outputs": [],
   "source": [
    "# start to read from page 2 to page 167\n",
    "date_list = []\n",
    "user_list = []\n",
    "content_list = []\n",
    "# get rid of repetitive website. \n",
    "for i in range(2, 167):\n",
    "    python_button = driver.find_element_by_xpath(\"//a[@href='https://forums.edmunds.com/discussion/2864/general/x/entry-level-luxury-performance-sedans/p{}']\".format(i))\n",
    "    python_button.click()\n",
    "    soup_level2=BeautifulSoup(driver.page_source, 'lxml')\n",
    "    date_list.extend([time[1:23] for time in str(soup_level2.find_all('time')).split('title=')[1:]])\n",
    "    user = re.findall(\"profile/\\w+\", str(soup_level2.find_all('a', class_=\"Username\")))\n",
    "    user_list.extend([name[8:] for name in user])\n",
    "    message = soup_level2.find_all('div', class_= re.compile(\"Message userContent\"))\n",
    "    message = [x.replace(\"<br/><br/>\", \" \").replace(\"</div>,\", \"\").replace(\"\\\\n\", \"\") for x in str(message).split('<div class=\"Message userContent\">')[1:]]\n",
    "    content_list.extend(message)\n",
    "    "
   ]
  },
  {
   "cell_type": "code",
   "execution_count": null,
   "metadata": {},
   "outputs": [],
   "source": [
    "# store the posts into a csv file called info\n",
    "info = pd.concat([pd.DataFrame(date_list), pd.DataFrame(user_list), pd.DataFrame(content_list)], axis=1)\n",
    "info.columns = [\"date\", \"user\", \"post\"]\n",
    "#info.to_csv('info.csv')"
   ]
  },
  {
   "cell_type": "code",
   "execution_count": 2,
   "metadata": {},
   "outputs": [],
   "source": [
    "dataset = pd.read_csv('info.csv')\n",
    "# This spreadsheet has popular car models and brand; we use it to replace car models with brand name.\n",
    "models = pd.read_csv('model_1.csv', header=None)\n",
    "models.columns=['brand', 'model']"
   ]
  },
  {
   "cell_type": "code",
   "execution_count": 3,
   "metadata": {},
   "outputs": [],
   "source": [
    "# data cleaning: There are <br/>2 and <br/> in post, and we did data cleaning as below.\n",
    "for i in range(len(dataset['post'])):\n",
    "    dataset['post'] = dataset['post'].map(lambda x: x.replace('<br/>2)', '').replace('<br/>', ' '))\n",
    "\n",
    "    "
   ]
  },
  {
   "cell_type": "code",
   "execution_count": 4,
   "metadata": {},
   "outputs": [],
   "source": [
    "# replace models with brands\n",
    "for i in range(len(models)):\n",
    "    model = models['model'][i].lower()\n",
    "    brand = models['brand'][i].lower()\n",
    "    dataset['post']=dataset['post'].map(lambda x: x.lower()).replace(to_replace=' '+model+' ', value=' '+brand+' ', regex=True)"
   ]
  },
  {
   "cell_type": "code",
   "execution_count": 5,
   "metadata": {},
   "outputs": [
    {
     "data": {
      "text/plain": [
       "0    {and, scheduled, they, just, fairly, money, is...\n",
       "1    {all, help, just, alternatives, years, course,...\n",
       "2    {secondly, all, show, being, domestic, kinks, ...\n",
       "3    {and, q45, want, just, up, money, is, european...\n",
       "4    {a, ago, based, of, couple, up, years, nationa...\n",
       "Name: post, dtype: object"
      ]
     },
     "execution_count": 5,
     "metadata": {},
     "output_type": "execute_result"
    }
   ],
   "source": [
    "# word_tokenize each post\n",
    "token_text = dataset['post'].map(word_tokenize)\n",
    "# take unique value of token_text for each post\n",
    "unique_word = token_text.map(set)\n",
    "# first five rows of unique_words\n",
    "unique_word[:5]"
   ]
  },
  {
   "cell_type": "code",
   "execution_count": 6,
   "metadata": {},
   "outputs": [
    {
     "data": {
      "text/plain": [
       "array(['Acura', 'Alfa Romeo', 'Audi', 'Bentley', 'BMW', 'Buick',\n",
       "       'Cadillac', 'Chevrolet', 'Chrysler', 'Dodge', 'Fiat', 'Ford',\n",
       "       'Genesis', 'GMC', 'Honda', 'Hyundai', 'Infiniti', 'Jaguar', 'Jeep',\n",
       "       'Kia', 'Land Rover', 'Lexus', 'Lincoln', 'Maserati', 'Mazda',\n",
       "       'Mercedes-Benz', 'Mini', 'Mitsubishi', 'Nissan', 'Porsche', 'Ram',\n",
       "       'Scion', 'Smart', 'Subaru', 'Toyota', 'Volkswagen', 'Volvo'],\n",
       "      dtype=object)"
      ]
     },
     "execution_count": 6,
     "metadata": {},
     "output_type": "execute_result"
    }
   ],
   "source": [
    "# The brand name we are focus on\n",
    "brand_list = models['brand'].unique()\n",
    "# and they are....\n",
    "brand_list"
   ]
  },
  {
   "cell_type": "code",
   "execution_count": 7,
   "metadata": {},
   "outputs": [],
   "source": [
    "# create a dictionary here \n",
    "brand_count = dict((brand, 0) for brand in brand_list)"
   ]
  },
  {
   "cell_type": "code",
   "execution_count": 8,
   "metadata": {},
   "outputs": [],
   "source": [
    "# count the how often people mention each brand in posts\n",
    "for i in range(len(unique_word)):\n",
    "    for j in range(len(brand_list)):\n",
    "        if brand_list[j].lower() in unique_word[i]:\n",
    "            brand_count[brand_list[j]] = brand_count[brand_list[j]] + 1"
   ]
  },
  {
   "cell_type": "markdown",
   "metadata": {},
   "source": [
    "### Task A:\n",
    "    \n",
    "Identify top 10 brands by frequency. From the posts, calculate lift ratios for associations \n",
    "between the brands. You will have to write a script to do this task). Show the brands on a multi-\n",
    "dimensional scaling (MDS) map (use a Python script for MDS, there are multiple scripts available on \n",
    "the Internet). "
   ]
  },
  {
   "cell_type": "code",
   "execution_count": 9,
   "metadata": {},
   "outputs": [
    {
     "name": "stdout",
     "output_type": "stream",
     "text": [
      "BMW 1568\n",
      "Acura 1067\n",
      "Mercedes-Benz 476\n",
      "Lexus 402\n",
      "Audi 375\n",
      "Honda 354\n",
      "Infiniti 334\n",
      "Mazda 277\n",
      "Nissan 251\n",
      "Cadillac 237\n"
     ]
    }
   ],
   "source": [
    "# the top 10 brands\n",
    "top_10 = sorted(brand_count, key=brand_count.__getitem__, reverse=True)[:10]\n",
    "\n",
    "for item in top_10:\n",
    "    print item, brand_count[item]"
   ]
  },
  {
   "cell_type": "code",
   "execution_count": 10,
   "metadata": {},
   "outputs": [],
   "source": [
    "# create a default dictionary here\n",
    "binary_count = defaultdict(int)\n",
    "\n",
    "# loop over these top 10 brands and count the time when people mention them together\n",
    "for i in range(len(top_10)):\n",
    "    # select the brand\n",
    "    brand1 = top_10[i]\n",
    "    for j in range(i+1, len(top_10)):\n",
    "        # select the second brand\n",
    "        brand2 = top_10[j]\n",
    "        #select each post\n",
    "        for z in range(len(unique_word)):\n",
    "                if brand1.lower() in unique_word[z] and brand2.lower() in unique_word[z] :\n",
    "                    binary_count[(brand1, brand2)] = binary_count[(brand1, brand2)] + 1"
   ]
  },
  {
   "cell_type": "code",
   "execution_count": 14,
   "metadata": {
    "scrolled": true
   },
   "outputs": [
    {
     "data": {
      "text/html": [
       "<div>\n",
       "<style scoped>\n",
       "    .dataframe tbody tr th:only-of-type {\n",
       "        vertical-align: middle;\n",
       "    }\n",
       "\n",
       "    .dataframe tbody tr th {\n",
       "        vertical-align: top;\n",
       "    }\n",
       "\n",
       "    .dataframe thead th {\n",
       "        text-align: right;\n",
       "    }\n",
       "</style>\n",
       "<table border=\"1\" class=\"dataframe\">\n",
       "  <thead>\n",
       "    <tr style=\"text-align: right;\">\n",
       "      <th></th>\n",
       "      <th>BMW</th>\n",
       "      <th>Acura</th>\n",
       "      <th>Mercedes-Benz</th>\n",
       "      <th>Lexus</th>\n",
       "      <th>Audi</th>\n",
       "      <th>Honda</th>\n",
       "      <th>Infiniti</th>\n",
       "      <th>Mazda</th>\n",
       "      <th>Nissan</th>\n",
       "      <th>Cadillac</th>\n",
       "    </tr>\n",
       "  </thead>\n",
       "  <tbody>\n",
       "    <tr>\n",
       "      <th>BMW</th>\n",
       "      <td>0.0</td>\n",
       "      <td>1.34</td>\n",
       "      <td>1.698</td>\n",
       "      <td>1.845</td>\n",
       "      <td>1.675</td>\n",
       "      <td>1.284</td>\n",
       "      <td>1.862</td>\n",
       "      <td>1.618</td>\n",
       "      <td>1.233</td>\n",
       "      <td>1.585</td>\n",
       "    </tr>\n",
       "    <tr>\n",
       "      <th>Acura</th>\n",
       "      <td>0.0</td>\n",
       "      <td>0.00</td>\n",
       "      <td>1.384</td>\n",
       "      <td>2.043</td>\n",
       "      <td>1.559</td>\n",
       "      <td>1.992</td>\n",
       "      <td>2.028</td>\n",
       "      <td>1.273</td>\n",
       "      <td>1.534</td>\n",
       "      <td>1.507</td>\n",
       "    </tr>\n",
       "    <tr>\n",
       "      <th>Mercedes-Benz</th>\n",
       "      <td>0.0</td>\n",
       "      <td>0.00</td>\n",
       "      <td>0.000</td>\n",
       "      <td>2.147</td>\n",
       "      <td>2.329</td>\n",
       "      <td>1.498</td>\n",
       "      <td>2.896</td>\n",
       "      <td>2.253</td>\n",
       "      <td>1.823</td>\n",
       "      <td>2.106</td>\n",
       "    </tr>\n",
       "    <tr>\n",
       "      <th>Lexus</th>\n",
       "      <td>0.0</td>\n",
       "      <td>0.00</td>\n",
       "      <td>0.000</td>\n",
       "      <td>0.000</td>\n",
       "      <td>2.561</td>\n",
       "      <td>1.426</td>\n",
       "      <td>4.129</td>\n",
       "      <td>2.178</td>\n",
       "      <td>1.864</td>\n",
       "      <td>2.910</td>\n",
       "    </tr>\n",
       "    <tr>\n",
       "      <th>Audi</th>\n",
       "      <td>0.0</td>\n",
       "      <td>0.00</td>\n",
       "      <td>0.000</td>\n",
       "      <td>0.000</td>\n",
       "      <td>0.000</td>\n",
       "      <td>1.454</td>\n",
       "      <td>3.162</td>\n",
       "      <td>2.049</td>\n",
       "      <td>1.788</td>\n",
       "      <td>2.729</td>\n",
       "    </tr>\n",
       "    <tr>\n",
       "      <th>Honda</th>\n",
       "      <td>0.0</td>\n",
       "      <td>0.00</td>\n",
       "      <td>0.000</td>\n",
       "      <td>0.000</td>\n",
       "      <td>0.000</td>\n",
       "      <td>0.000</td>\n",
       "      <td>1.340</td>\n",
       "      <td>2.474</td>\n",
       "      <td>4.457</td>\n",
       "      <td>1.593</td>\n",
       "    </tr>\n",
       "    <tr>\n",
       "      <th>Infiniti</th>\n",
       "      <td>0.0</td>\n",
       "      <td>0.00</td>\n",
       "      <td>0.000</td>\n",
       "      <td>0.000</td>\n",
       "      <td>0.000</td>\n",
       "      <td>0.000</td>\n",
       "      <td>0.000</td>\n",
       "      <td>1.873</td>\n",
       "      <td>3.484</td>\n",
       "      <td>2.814</td>\n",
       "    </tr>\n",
       "    <tr>\n",
       "      <th>Mazda</th>\n",
       "      <td>0.0</td>\n",
       "      <td>0.00</td>\n",
       "      <td>0.000</td>\n",
       "      <td>0.000</td>\n",
       "      <td>0.000</td>\n",
       "      <td>0.000</td>\n",
       "      <td>0.000</td>\n",
       "      <td>0.000</td>\n",
       "      <td>2.349</td>\n",
       "      <td>2.337</td>\n",
       "    </tr>\n",
       "    <tr>\n",
       "      <th>Nissan</th>\n",
       "      <td>0.0</td>\n",
       "      <td>0.00</td>\n",
       "      <td>0.000</td>\n",
       "      <td>0.000</td>\n",
       "      <td>0.000</td>\n",
       "      <td>0.000</td>\n",
       "      <td>0.000</td>\n",
       "      <td>0.000</td>\n",
       "      <td>0.000</td>\n",
       "      <td>1.082</td>\n",
       "    </tr>\n",
       "    <tr>\n",
       "      <th>Cadillac</th>\n",
       "      <td>0.0</td>\n",
       "      <td>0.00</td>\n",
       "      <td>0.000</td>\n",
       "      <td>0.000</td>\n",
       "      <td>0.000</td>\n",
       "      <td>0.000</td>\n",
       "      <td>0.000</td>\n",
       "      <td>0.000</td>\n",
       "      <td>0.000</td>\n",
       "      <td>0.000</td>\n",
       "    </tr>\n",
       "  </tbody>\n",
       "</table>\n",
       "</div>"
      ],
      "text/plain": [
       "               BMW  Acura  Mercedes-Benz  Lexus   Audi  Honda  Infiniti  \\\n",
       "BMW            0.0   1.34          1.698  1.845  1.675  1.284     1.862   \n",
       "Acura          0.0   0.00          1.384  2.043  1.559  1.992     2.028   \n",
       "Mercedes-Benz  0.0   0.00          0.000  2.147  2.329  1.498     2.896   \n",
       "Lexus          0.0   0.00          0.000  0.000  2.561  1.426     4.129   \n",
       "Audi           0.0   0.00          0.000  0.000  0.000  1.454     3.162   \n",
       "Honda          0.0   0.00          0.000  0.000  0.000  0.000     1.340   \n",
       "Infiniti       0.0   0.00          0.000  0.000  0.000  0.000     0.000   \n",
       "Mazda          0.0   0.00          0.000  0.000  0.000  0.000     0.000   \n",
       "Nissan         0.0   0.00          0.000  0.000  0.000  0.000     0.000   \n",
       "Cadillac       0.0   0.00          0.000  0.000  0.000  0.000     0.000   \n",
       "\n",
       "               Mazda  Nissan  Cadillac  \n",
       "BMW            1.618   1.233     1.585  \n",
       "Acura          1.273   1.534     1.507  \n",
       "Mercedes-Benz  2.253   1.823     2.106  \n",
       "Lexus          2.178   1.864     2.910  \n",
       "Audi           2.049   1.788     2.729  \n",
       "Honda          2.474   4.457     1.593  \n",
       "Infiniti       1.873   3.484     2.814  \n",
       "Mazda          0.000   2.349     2.337  \n",
       "Nissan         0.000   0.000     1.082  \n",
       "Cadillac       0.000   0.000     0.000  "
      ]
     },
     "execution_count": 14,
     "metadata": {},
     "output_type": "execute_result"
    }
   ],
   "source": [
    "# create a 10 * 10 matrix here\n",
    "lift_ratio = numpy.zeros(shape=(10,10))\n",
    "# create a 10 * 10 matrix here\n",
    "dissimilarity = numpy.zeros(shape=(10,10))\n",
    "\n",
    "N = len(dataset)\n",
    "for i in range(len(top_10)):\n",
    "    brand1 = top_10[i]\n",
    "    for j in range(i+1, len(top_10)):\n",
    "        brand2 = top_10[j]\n",
    "        lift_ratio[i][j] = round(1.0*N*binary_count[(brand1, brand2)]/(brand_count[brand1]*brand_count[brand2]), 3)\n",
    "        dissimilarity[i][j] = 1/lift_ratio[i][j]\n",
    "        disbsimilarity[j][i] = 1/lift_ratio[i][j]\n",
    "lift_table = pd.DataFrame(lift_ratio, columns=top_10, index=top_10)\n",
    "lift_table"
   ]
  },
  {
   "cell_type": "code",
   "execution_count": 12,
   "metadata": {},
   "outputs": [
    {
     "data": {
      "image/png": "[encoded data removed]",
      "text/plain": [
       "<Figure size 432x288 with 1 Axes>"
      ]
     },
     "metadata": {},
     "output_type": "display_data"
    }
   ],
   "source": [
    "mds = manifold.MDS(n_components=2, dissimilarity=\"precomputed\", random_state=6)\n",
    "results = mds.fit(dissimilarity)\n",
    "coords = results.embedding_\n",
    "plt.subplots_adjust(bottom = 0.1)\n",
    "plt.scatter(\n",
    "    coords[:, 0], coords[:, 1], marker = 'o'\n",
    "    )\n",
    "for label, x, y in zip(top_10, coords[:, 0], coords[:, 1]):\n",
    "    plt.annotate(\n",
    "        label,\n",
    "        xy = (x, y), xytext = (-20, 20),\n",
    "        textcoords = 'offset points', ha = 'right', va = 'bottom',\n",
    "        bbox = dict(boxstyle = 'round,pad=0.5', fc = 'yellow', alpha = 0.5),\n",
    "        arrowprops = dict(arrowstyle = '->', connectionstyle = 'arc3,rad=0'))\n",
    "plt.show()"
   ]
  },
  {
   "cell_type": "markdown",
   "metadata": {},
   "source": [
    "### Task B:\n",
    " What insights can you offer brand managers from your analysis in Task A (choose two brands \n",
    "that you can offer the most interesting/useful insights for)? "
   ]
  },
  {
   "cell_type": "markdown",
   "metadata": {},
   "source": [
    "\n",
    "1.   \tBMW. In this plot BMW seems to have a very unique image which is not often mentioned by other brands. The closest brand to BMW is Mercedes-Benz which is reasonable because they share a part of similar luxury market. The second closest brand is Mazda which is not that make sense but Mazda does advertise itself as “Japanese BMW”.\n",
    "2.   \tAcura. Again, Acura locates at the corner of the plot which means not often mentioned by other brand. However the closest two brands of Acura are Infiniti and Lexus which means Acura is more likely to be compared on Japan market."
   ]
  },
  {
   "cell_type": "markdown",
   "metadata": {},
   "source": [
    "### Task C:\n",
    " What are 5 most frequently mentioned attributes of cars in the discussions? Note that the \n",
    "same attribute may be described by different words – e.g., pick-up and acceleration may both refer \n",
    "to a more general attribute, “performance”. You have to make suitable replacements. Now pick the \n",
    "5 most frequently mentioned brands. Which attributes are most strongly associated with which of \n",
    "these 5 brands? You DON’T have to do a sentiment analysis for this assignment."
   ]
  },
  {
   "cell_type": "markdown",
   "metadata": {},
   "source": [
    "We consider the attributes as follows: comfort, entertainment, safety, performance, service & care, cost, aesthetics, techonology, quality, size, purpose, reputation."
   ]
  },
  {
   "cell_type": "code",
   "execution_count": 17,
   "metadata": {},
   "outputs": [],
   "source": [
    "attribute = pd.read_csv('car.csv', sep='\\t')"
   ]
  },
  {
   "cell_type": "code",
   "execution_count": 28,
   "metadata": {},
   "outputs": [],
   "source": [
    "# the attributes we looked at are...\n",
    "attribute_list = ['comfort', 'entertainment', 'safety', 'performance', 'servicecare', 'aesthetics', 'quality', 'size', 'purpose', 'reputation']"
   ]
  },
  {
   "cell_type": "code",
   "execution_count": 19,
   "metadata": {},
   "outputs": [],
   "source": [
    "# replace descriptive words with attribute\n",
    "for i in range(len(attribute)):\n",
    "    Attr = attribute['Key'][i].lower()\n",
    "    possible_word = attribute['possible_word'][i].lower()\n",
    "    dataset['post_attr']=dataset['post'].map(lambda x: x.lower()).replace(to_replace=' '+possible_word+' ', value=' '+Attr+' ', regex=True)"
   ]
  },
  {
   "cell_type": "code",
   "execution_count": 20,
   "metadata": {},
   "outputs": [],
   "source": [
    "token_text1 = dataset['post_attr'].map(word_tokenize)"
   ]
  },
  {
   "cell_type": "code",
   "execution_count": 21,
   "metadata": {},
   "outputs": [],
   "source": [
    "attribute_count = dict((attribute, 0) for attribute in attribute_list)"
   ]
  },
  {
   "cell_type": "code",
   "execution_count": 22,
   "metadata": {},
   "outputs": [],
   "source": [
    "# get unique words in each post\n",
    "unique_word1 = token_text1.map(set)"
   ]
  },
  {
   "cell_type": "code",
   "execution_count": 23,
   "metadata": {},
   "outputs": [],
   "source": [
    "# loop over both unique words in each post and the attribute list to find the frequency of these attributes\n",
    "for i in range(len(unique_word1)):\n",
    "    for j in range(len(attribute_list)):\n",
    "        if attribute_list[j].lower() in unique_word1[i]:\n",
    "            attribute_count[attribute_list[j]] = attribute_count[attribute_list[j]] + 1"
   ]
  },
  {
   "cell_type": "code",
   "execution_count": 24,
   "metadata": {},
   "outputs": [
    {
     "data": {
      "text/plain": [
       "{'aesthetics': 3,\n",
       " 'comfort': 53,\n",
       " 'entertainment': 7,\n",
       " 'performance': 647,\n",
       " 'purpose': 82,\n",
       " 'quality': 160,\n",
       " 'reputation': 31,\n",
       " 'safety': 93,\n",
       " 'servicecare': 0,\n",
       " 'size': 133}"
      ]
     },
     "execution_count": 24,
     "metadata": {},
     "output_type": "execute_result"
    }
   ],
   "source": [
    "attribute_count"
   ]
  },
  {
   "cell_type": "markdown",
   "metadata": {},
   "source": [
    "The 5 most frequently mentioned attributes of cars are:"
   ]
  },
  {
   "cell_type": "code",
   "execution_count": 29,
   "metadata": {},
   "outputs": [
    {
     "name": "stdout",
     "output_type": "stream",
     "text": [
      "performance 647\n",
      "quality 160\n",
      "size 133\n",
      "safety 93\n",
      "purpose 82\n"
     ]
    }
   ],
   "source": [
    "# The top 5 attributes\n",
    "top_5 = sorted(attribute_count, key=attribute_count.__getitem__, reverse=True)[:5]\n",
    "for item in top_5:\n",
    "    print item, attribute_count[item]"
   ]
  },
  {
   "cell_type": "markdown",
   "metadata": {},
   "source": [
    "Now let's find out which attributes are most strongly associated with which of these 5 brands."
   ]
  },
  {
   "cell_type": "code",
   "execution_count": 30,
   "metadata": {},
   "outputs": [],
   "source": [
    "# seperate the post by .,!?;:\n",
    "token_sentence = dataset['post_attr'].map(lambda s: re.split(r'[.,!?;:]', s))"
   ]
  },
  {
   "cell_type": "code",
   "execution_count": 31,
   "metadata": {},
   "outputs": [],
   "source": [
    "binary_count2 = defaultdict(int)\n",
    "\n",
    "for i in range(0, 5):\n",
    "    # select the top 5 brands here\n",
    "    brand = top_10[i]\n",
    "    \n",
    "    for j in range(len(attribute_list)):\n",
    "        # select the attribute here \n",
    "        attr = attribute_list[j]\n",
    "        \n",
    "        # select each post\n",
    "        for z in range(len(token_sentence)):\n",
    "            # inside each post, select each sentence\n",
    "            for h in range(len(token_sentence[z])):\n",
    "            # this is to check whether the brand name and the attribute appear in the same sentence.\n",
    "                if brand.lower() in token_sentence[z][h] and attr.lower() in token_sentence[z][h] :\n",
    "                    binary_count2[(brand, attr)] = binary_count2[(brand, attr)] + 1"
   ]
  },
  {
   "cell_type": "markdown",
   "metadata": {},
   "source": [
    "We can see that \n",
    "\n",
    "Acura is strongly associated with performance, comfort, aesthetics, quality, and purpose;\n",
    "\n",
    "Audi is strongly associated with performance, quality, aesthetics, comfort, and size;\n",
    "\n",
    "BMW is strongly associated with performance, comfort, aesthetics, size, and quality;\n",
    "\n",
    "Lexus is strongly associated with performance, comfort, aesthetics, quality, serivce care and size;\n",
    "\n",
    "Mercedes-Benz is strongly associated with performance, comfort, size,  aesthetics, and quality"
   ]
  },
  {
   "cell_type": "code",
   "execution_count": 24,
   "metadata": {},
   "outputs": [
    {
     "data": {
      "text/plain": [
       "defaultdict(int,\n",
       "            {('Acura', 'aesthetics'): 32,\n",
       "             ('Acura', 'comfort'): 45,\n",
       "             ('Acura', 'entertainment'): 3,\n",
       "             ('Acura', 'performance'): 182,\n",
       "             ('Acura', 'purpose'): 6,\n",
       "             ('Acura', 'quality'): 14,\n",
       "             ('Acura', 'reputation'): 1,\n",
       "             ('Acura', 'safety'): 3,\n",
       "             ('Acura', 'servicecare'): 1,\n",
       "             ('Acura', 'size'): 23,\n",
       "             ('Audi', 'aesthetics'): 13,\n",
       "             ('Audi', 'comfort'): 10,\n",
       "             ('Audi', 'entertainment'): 7,\n",
       "             ('Audi', 'performance'): 56,\n",
       "             ('Audi', 'purpose'): 1,\n",
       "             ('Audi', 'quality'): 14,\n",
       "             ('Audi', 'safety'): 2,\n",
       "             ('Audi', 'servicecare'): 6,\n",
       "             ('Audi', 'size'): 8,\n",
       "             ('BMW', 'aesthetics'): 34,\n",
       "             ('BMW', 'comfort'): 39,\n",
       "             ('BMW', 'entertainment'): 3,\n",
       "             ('BMW', 'performance'): 314,\n",
       "             ('BMW', 'purpose'): 12,\n",
       "             ('BMW', 'quality'): 30,\n",
       "             ('BMW', 'reputation'): 4,\n",
       "             ('BMW', 'safety'): 6,\n",
       "             ('BMW', 'servicecare'): 20,\n",
       "             ('BMW', 'size'): 33,\n",
       "             ('Lexus', 'aesthetics'): 10,\n",
       "             ('Lexus', 'comfort'): 27,\n",
       "             ('Lexus', 'performance'): 40,\n",
       "             ('Lexus', 'purpose'): 1,\n",
       "             ('Lexus', 'quality'): 8,\n",
       "             ('Lexus', 'servicecare'): 3,\n",
       "             ('Lexus', 'size'): 3,\n",
       "             ('Mercedes-Benz', 'aesthetics'): 16,\n",
       "             ('Mercedes-Benz', 'comfort'): 18,\n",
       "             ('Mercedes-Benz', 'entertainment'): 1,\n",
       "             ('Mercedes-Benz', 'performance'): 60,\n",
       "             ('Mercedes-Benz', 'purpose'): 5,\n",
       "             ('Mercedes-Benz', 'quality'): 14,\n",
       "             ('Mercedes-Benz', 'reputation'): 2,\n",
       "             ('Mercedes-Benz', 'safety'): 9,\n",
       "             ('Mercedes-Benz', 'servicecare'): 6,\n",
       "             ('Mercedes-Benz', 'size'): 18})"
      ]
     },
     "execution_count": 24,
     "metadata": {},
     "output_type": "execute_result"
    }
   ],
   "source": [
    "binary_count2"
   ]
  },
  {
   "cell_type": "markdown",
   "metadata": {},
   "source": [
    "While BMW has claimed that they are the “ultimate driving machine”, is that how people feel on \n",
    "Edmunds? Show your analysis.   "
   ]
  },
  {
   "cell_type": "markdown",
   "metadata": {},
   "source": [
    "The method used here is from https://pythonspot.com/python-sentiment-analysis/. \n",
    "\n",
    "First, I created a new csv file which contains positive words, negative words, and neutral words based on the posts. Positive words include fun, wonderful, fast, etc. Negative words include cramped, slow, boring, etc. Neutral words include bmw, represents, two, etc.\n",
    "\n",
    "Then I trained the naivebayes classifier to predict the overall positivity of the posts which mentioned BMW. If the positive negative ratio is higher than 1, then people actually feel more positive towards this brand; if the positive negative ratio is lower than 1, then people feel more negative towards this brand. We can see from the positive / negative ratio below is 0.6646, which means that there are more negative comments than positive comments. Thus, people may not feel that BMW are the ultimate driving machines. "
   ]
  },
  {
   "cell_type": "code",
   "execution_count": 32,
   "metadata": {},
   "outputs": [],
   "source": [
    "# take out all the sentences which mentioned BMW\n",
    "bmw_sentence = []\n",
    "# loop over all the posts\n",
    "for i in range(len(token_sentence)):\n",
    "    # loop over all sentence in one post\n",
    "    for j in range(len(token_sentence[i])):\n",
    "        # for each descriptive word in attribute\n",
    "        # if the sentence mentions bmw,\n",
    "            temp = token_sentence[i][j].split(' ') \n",
    "            if 'bmw' in temp:\n",
    "                bmw_sentence.append(token_sentence[i][j])"
   ]
  },
  {
   "cell_type": "code",
   "execution_count": 33,
   "metadata": {},
   "outputs": [],
   "source": [
    "def word_feats(words):\n",
    "    return dict([(word, True) for word in words])\n",
    "pos_neg_words = pd.read_csv('pos_neg_words.csv') \n",
    "positive_vocab = list(pos_neg_words['positive_vocab'].dropna())\n",
    "negative_vocab = list(pos_neg_words['negative_vocab'].dropna())\n",
    "neutral_vocab = list(pos_neg_words['neutral_vocab'])\n",
    " \n",
    "positive_features = [(word_feats(pos), 'pos') for pos in positive_vocab]\n",
    "negative_features = [(word_feats(neg), 'neg') for neg in negative_vocab]\n",
    "neutral_features = [(word_feats(neu), 'neu') for neu in neutral_vocab]\n",
    " \n",
    "train_set = negative_features + positive_features + neutral_features\n",
    " \n",
    "classifier = NaiveBayesClassifier.train(train_set) \n"
   ]
  },
  {
   "cell_type": "code",
   "execution_count": 34,
   "metadata": {},
   "outputs": [],
   "source": [
    "# Predict the positve / negative ratio\n",
    "def pos_neg_ratio (sentences):\n",
    "    pos_count = 0\n",
    "    neg_count = 0\n",
    "    for i in range(len(sentences)):\n",
    "        neg = 0\n",
    "        pos = 0\n",
    "        sentence = sentences[i]\n",
    "        sentence = sentence.lower()\n",
    "        words = sentence.split(' ')\n",
    "        for word in words:\n",
    "            classResult = classifier.classify( word_feats(word))\n",
    "            if classResult == 'neg':\n",
    "                neg = neg + 1\n",
    "            if classResult == 'pos':\n",
    "                pos = pos + 1\n",
    "        if str(float(pos)/len(words)) > str(float(neg)/len(words)):\n",
    "            pos_count += 1\n",
    "        else:\n",
    "            neg_count += 1\n",
    "    print 'positive to negative ratio is', pos_count*1.0/neg_count"
   ]
  },
  {
   "cell_type": "code",
   "execution_count": 35,
   "metadata": {},
   "outputs": [
    {
     "name": "stdout",
     "output_type": "stream",
     "text": [
      "positive to negative ratio is 0.795634920635\n"
     ]
    }
   ],
   "source": [
    "pos_neg_ratio(bmw_sentence)"
   ]
  },
  {
   "cell_type": "markdown",
   "metadata": {},
   "source": [
    "Task D:\n",
    " What advice will you give to a (i) product manager, and (ii) marketing/advertising manager \n",
    "of these brands based on your analysis in Task C? For this assignment, you can assume the \n",
    "sentiment (e.g., that it is positive). "
   ]
  },
  {
   "cell_type": "markdown",
   "metadata": {},
   "source": [
    "(i) product manager\n",
    "\n",
    "Based on the analysis above, we can provide advice about the most frequently attributes related to their products. Since all the attributes we listed are positive, we can safely assume that all the sentiments in our analysis are positive as well. Therefore, our analysis can help product managers to understand their customers better by their posts, what are the attributes customers really care about, what are the most frequently mentioned attributes and what are the least. For example, “entertainment” of BMW is relatively infrequently mentioned on Edmunds. Therefore, the product manager of BMW can focus more on the improving the entertainment system on BMW like let customer pair their cells phone easily, upgrade the in-car sound system, etc."
   ]
  },
  {
   "cell_type": "markdown",
   "metadata": {},
   "source": [
    "(ii)marketing/advertising manager\n",
    "\n",
    "Marketing managers should focus on attributes which people related to their brands most frequently and advertise the attribute to impress more potential customers. If there are budget constraints, avoid spending money on advertising their attributes which people relate to their brands least frequently. For example for Lexus, the ratio of “comfort” relative posts over all its relative posts is higher than other brands’ ratios. Therefore, assuming all the sentiments are positive, Lexus is the brand which best satisfies customer’s requirement of “comfort”. Therefore, we recommend Lexus’s advertising manager to focus on advertising the “comfort” property of Lexus and therefore gain higher market share."
   ]
  },
  {
   "cell_type": "markdown",
   "metadata": {},
   "source": [
    "Task E:\n",
    " Which is the most \n",
    "aspirational\n",
    " brand in your data in terms of people actually wanting to buy \n",
    "or own? Describe your analysis. What are the business implications for this brand?"
   ]
  },
  {
   "cell_type": "markdown",
   "metadata": {},
   "source": [
    "We assume that if people are saying more positive things about this brand, poeple actually want to buy or own this brand. We used the same method in evaluating whether BMW are the 'ultimate driving machine'. We can see below that infiniti and nissan has pos neg ratio higher than 1: Infiniti is 1.51, and nissan is 2.39. Thus, the most aspirational brand in my data is Nissan. \n",
    "\n",
    "As we can see from MDS Map, the Nissan locates very close to Honda, which means that they are competitors who are targeting the similar market. Notice that Honda has a pos neg ratio of 0.31. Thus, when people are comparing Nissan and Honda, they are saying more positive things about Nissan, and are more likely to shift to the Nissan. Thus, Nissan can target the customers who have a Honda and offer discounts or market to these customers to make them shift to Nissan. "
   ]
  },
  {
   "cell_type": "code",
   "execution_count": 36,
   "metadata": {},
   "outputs": [],
   "source": [
    "acura_sentence = []\n",
    "benz_sentence = []\n",
    "lexus_sentence = []\n",
    "audi_sentence = []\n",
    "honda_sentence = []\n",
    "infiniti_sentence = []\n",
    "mazda_sentence = []\n",
    "nissan_sentence = []\n",
    "cadillac_sentence = []\n",
    "# loop over all the posts\n",
    "for i in range(len(token_sentence)):\n",
    "    # loop over all sentence in one post\n",
    "    for j in range(len(token_sentence[i])):\n",
    "        # for each descriptive word in attribute\n",
    "        # if the sentence mentions bmw,\n",
    "            temp = token_sentence[i][j].split(' ') \n",
    "            if 'mercedes-benz' in temp:\n",
    "                benz_sentence.append(token_sentence[i][j])\n",
    "            if 'acura' in temp:\n",
    "                acura_sentence.append(token_sentence[i][j])\n",
    "            if 'lexus' in temp:\n",
    "                lexus_sentence.append(token_sentence[i][j])\n",
    "            if 'audi' in temp:\n",
    "                audi_sentence.append(token_sentence[i][j])\n",
    "            if 'honda' in temp:\n",
    "                honda_sentence.append(token_sentence[i][j])\n",
    "            if 'infiniti' in temp:\n",
    "                infiniti_sentence.append(token_sentence[i][j])\n",
    "            if 'mazda' in temp:\n",
    "                mazda_sentence.append(token_sentence[i][j])\n",
    "            if 'nissan' in temp:\n",
    "                nissan_sentence.append(token_sentence[i][j])\n",
    "            if 'cadillac' in temp:\n",
    "                cadillac_sentence.append(token_sentence[i][j])"
   ]
  },
  {
   "cell_type": "code",
   "execution_count": 37,
   "metadata": {},
   "outputs": [
    {
     "name": "stdout",
     "output_type": "stream",
     "text": [
      "Accura\n",
      "positive to negative ratio is 0.38374717833\n",
      "Mercedes-Benz\n",
      "positive to negative ratio is 0.447580645161\n",
      "Lexus\n",
      "positive to negative ratio is 0.297539149888\n",
      "Audi\n",
      "positive to negative ratio is 0.305555555556\n",
      "Honda\n",
      "positive to negative ratio is 0.995689655172\n",
      "Infiniti\n",
      "positive to negative ratio is 1.50568181818\n",
      "Mazda\n",
      "positive to negative ratio is 0.813186813187\n",
      "Nissan\n",
      "positive to negative ratio is 2.39795918367\n",
      "Cadillac\n",
      "positive to negative ratio is 0.258823529412\n"
     ]
    }
   ],
   "source": [
    "print 'Accura'\n",
    "pos_neg_ratio(acura_sentence)\n",
    "print 'Mercedes-Benz'\n",
    "pos_neg_ratio(benz_sentence)\n",
    "print 'Lexus'\n",
    "pos_neg_ratio(lexus_sentence)\n",
    "print 'Audi'\n",
    "pos_neg_ratio(audi_sentence)\n",
    "print 'Honda'\n",
    "pos_neg_ratio(honda_sentence)\n",
    "print 'Infiniti'\n",
    "pos_neg_ratio(infiniti_sentence)\n",
    "print 'Mazda'\n",
    "pos_neg_ratio(mazda_sentence)\n",
    "print 'Nissan'\n",
    "pos_neg_ratio(nissan_sentence)\n",
    "print 'Cadillac'\n",
    "pos_neg_ratio(cadillac_sentence)"
   ]
  }
 ],
 "metadata": {
  "kernelspec": {
   "display_name": "Python 2",
   "language": "python",
   "name": "python2"
  },
  "language_info": {
   "codemirror_mode": {
    "name": "ipython",
    "version": 2
   },
   "file_extension": ".py",
   "mimetype": "text/x-python",
   "name": "python",
   "nbconvert_exporter": "python",
   "pygments_lexer": "ipython2",
   "version": "2.7.15"
  }
 },
 "nbformat": 4,
 "nbformat_minor": 2
}
